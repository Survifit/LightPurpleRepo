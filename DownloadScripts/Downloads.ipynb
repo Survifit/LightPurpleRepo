{
 "cells": [
  {
   "cell_type": "code",
   "execution_count": 15,
   "metadata": {},
   "outputs": [],
   "source": [
    "import requests as re\n",
    "import pandas as pd\n",
    "import numpy as np\n",
    "from pprint import pprint"
   ]
  },
  {
   "cell_type": "code",
   "execution_count": 3,
   "metadata": {},
   "outputs": [],
   "source": [
    "# url = \"http://bechdeltest.com/api/v1/getAllMovies\"\n",
    "\n",
    "# response = re.get(url).json()\n"
   ]
  },
  {
   "cell_type": "code",
   "execution_count": 5,
   "metadata": {},
   "outputs": [
    {
     "name": "stdout",
     "output_type": "stream",
     "text": [
      "{'id': '8040',\n",
      " 'imdbid': '0392728',\n",
      " 'rating': '0',\n",
      " 'title': 'Roundhay Garden Scene',\n",
      " 'year': '1888'}\n"
     ]
    }
   ],
   "source": [
    "#pprint(response[0])"
   ]
  },
  {
   "cell_type": "code",
   "execution_count": 6,
   "metadata": {},
   "outputs": [],
   "source": [
    "bechdel_df = pd.DataFrame(response)"
   ]
  },
  {
   "cell_type": "code",
   "execution_count": 19,
   "metadata": {},
   "outputs": [],
   "source": [
    "bechdel_df.head()\n",
    "#bechdel_df.to_csv(\"Data/bechdel_full.csv\")"
   ]
  },
  {
   "cell_type": "code",
   "execution_count": 8,
   "metadata": {},
   "outputs": [
    {
     "data": {
      "text/plain": [
       "40380"
      ]
     },
     "execution_count": 8,
     "metadata": {},
     "output_type": "execute_result"
    }
   ],
   "source": [
    "bechdel_df.size"
   ]
  },
  {
   "cell_type": "code",
   "execution_count": 20,
   "metadata": {},
   "outputs": [],
   "source": [
    "split_df = np.array_split(bechdel_df, 9)\n",
    "tue_1 = split_df[0]\n",
    "#tue_1['imdbid'].to_csv('Data/james_tues.csv')"
   ]
  },
  {
   "cell_type": "code",
   "execution_count": 21,
   "metadata": {},
   "outputs": [],
   "source": [
    "tue_2 = split_df[1]\n",
    "#tue_2['imdbid'].to_csv('Data/emily_tues.csv')\n",
    "tue_3 = split_df[2]\n",
    "#tue_3['imdbid'].to_csv('Data/stephanie_tues.csv')\n",
    "tue_4 = split_df[3]\n",
    "#tue_4['imdbid'].to_csv('Data/marie_tues.csv')\n",
    "tue_5 = split_df[4]\n",
    "#tue_5['imdbid'].to_csv('Data/chris_tues.csv')\n",
    "wed_1 = split_df[5]\n",
    "#wed_1['imdbid'].to_csv('Data/chris_wed.csv')\n",
    "wed_2 = split_df[6]\n",
    "#wed_2['imdbid'].to_csv('Data/marie_wed.csv')\n",
    "wed_3 = split_df[7]\n",
    "#wed_3['imdbid'].to_csv('Data/stephanie_wed.csv')\n",
    "wed_4 = split_df[8]\n",
    "#wed_4['imdbid'].to_csv('Data/emily_wed.csv')"
   ]
  },
  {
   "cell_type": "code",
   "execution_count": 24,
   "metadata": {},
   "outputs": [
    {
     "data": {
      "text/html": [
       "<div>\n",
       "<style scoped>\n",
       "    .dataframe tbody tr th:only-of-type {\n",
       "        vertical-align: middle;\n",
       "    }\n",
       "\n",
       "    .dataframe tbody tr th {\n",
       "        vertical-align: top;\n",
       "    }\n",
       "\n",
       "    .dataframe thead th {\n",
       "        text-align: right;\n",
       "    }\n",
       "</style>\n",
       "<table border=\"1\" class=\"dataframe\">\n",
       "  <thead>\n",
       "    <tr style=\"text-align: right;\">\n",
       "      <th></th>\n",
       "      <th>id</th>\n",
       "      <th>imdbid</th>\n",
       "      <th>rating</th>\n",
       "      <th>title</th>\n",
       "      <th>year</th>\n",
       "    </tr>\n",
       "  </thead>\n",
       "  <tbody>\n",
       "    <tr>\n",
       "      <th>8071</th>\n",
       "      <td>8617</td>\n",
       "      <td>5316540</td>\n",
       "      <td>3</td>\n",
       "      <td>Close</td>\n",
       "      <td>2019</td>\n",
       "    </tr>\n",
       "    <tr>\n",
       "      <th>8072</th>\n",
       "      <td>8642</td>\n",
       "      <td>0437086</td>\n",
       "      <td>3</td>\n",
       "      <td>Alita: Battle Angel</td>\n",
       "      <td>2019</td>\n",
       "    </tr>\n",
       "    <tr>\n",
       "      <th>8073</th>\n",
       "      <td>8655</td>\n",
       "      <td>7458762</td>\n",
       "      <td>0</td>\n",
       "      <td>Le chant du loup</td>\n",
       "      <td>2019</td>\n",
       "    </tr>\n",
       "    <tr>\n",
       "      <th>8074</th>\n",
       "      <td>8659</td>\n",
       "      <td>2452244</td>\n",
       "      <td>1</td>\n",
       "      <td>Isn&amp;#39;t It Romantic</td>\n",
       "      <td>2019</td>\n",
       "    </tr>\n",
       "    <tr>\n",
       "      <th>8075</th>\n",
       "      <td>8668</td>\n",
       "      <td>4154664</td>\n",
       "      <td>3</td>\n",
       "      <td>Captain Marvel</td>\n",
       "      <td>2019</td>\n",
       "    </tr>\n",
       "  </tbody>\n",
       "</table>\n",
       "</div>"
      ],
      "text/plain": [
       "        id   imdbid rating                  title  year\n",
       "8071  8617  5316540      3                  Close  2019\n",
       "8072  8642  0437086      3    Alita: Battle Angel  2019\n",
       "8073  8655  7458762      0       Le chant du loup  2019\n",
       "8074  8659  2452244      1  Isn&#39;t It Romantic  2019\n",
       "8075  8668  4154664      3         Captain Marvel  2019"
      ]
     },
     "execution_count": 24,
     "metadata": {},
     "output_type": "execute_result"
    }
   ],
   "source": [
    "wed_4.tail()"
   ]
  },
  {
   "cell_type": "code",
   "execution_count": null,
   "metadata": {},
   "outputs": [],
   "source": []
  }
 ],
 "metadata": {
  "kernelspec": {
   "display_name": "Python 3",
   "language": "python",
   "name": "python3"
  },
  "language_info": {
   "codemirror_mode": {
    "name": "ipython",
    "version": 3
   },
   "file_extension": ".py",
   "mimetype": "text/x-python",
   "name": "python",
   "nbconvert_exporter": "python",
   "pygments_lexer": "ipython3",
   "version": "3.6.7"
  }
 },
 "nbformat": 4,
 "nbformat_minor": 2
}
