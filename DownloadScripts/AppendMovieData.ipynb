{
 "cells": [
  {
   "cell_type": "code",
   "execution_count": 1,
   "metadata": {},
   "outputs": [],
   "source": [
    "import pandas as pd\n",
    "import numpy as np\n"
   ]
  },
  {
   "cell_type": "code",
   "execution_count": 13,
   "metadata": {},
   "outputs": [],
   "source": [
    "data1 = pd.read_csv('chris_tues_moviedata.csv')\n",
    "data2 = pd.read_csv('chris_wed_moviedata.csv')\n",
    "data3 = pd.read_csv('emily_tues_moviedata.csv')\n",
    "data4 = pd.read_csv('emily_wed_moviedata.csv')\n",
    "data5 = pd.read_csv('james_tues_moviedata.csv')\n",
    "data6 = pd.read_csv('marie_tues_moviedata.csv')\n",
    "data7 = pd.read_csv('marie_wed_moviedata.csv')\n",
    "data8 = pd.read_csv('stephanie_tues_moviedata.csv')\n",
    "data9 = pd.read_csv('stephanie_wed_moviedata.csv')\n",
    "data1 = data1.append([data2, data3, data4, data5, data6, data7, data8, data9])"
   ]
  },
  {
   "cell_type": "code",
   "execution_count": 15,
   "metadata": {},
   "outputs": [],
   "source": [
    "data1.to_csv('full_moviedata.csv')"
   ]
  },
  {
   "cell_type": "code",
   "execution_count": 12,
   "metadata": {},
   "outputs": [
    {
     "data": {
      "text/plain": [
       "(897, 30)"
      ]
     },
     "execution_count": 12,
     "metadata": {},
     "output_type": "execute_result"
    }
   ],
   "source": [
    "data2.shape"
   ]
  },
  {
   "cell_type": "code",
   "execution_count": null,
   "metadata": {},
   "outputs": [],
   "source": []
  }
 ],
 "metadata": {
  "kernelspec": {
   "display_name": "Python [conda env:PythonData]",
   "language": "python",
   "name": "conda-env-PythonData-py"
  },
  "language_info": {
   "codemirror_mode": {
    "name": "ipython",
    "version": 3
   },
   "file_extension": ".py",
   "mimetype": "text/x-python",
   "name": "python",
   "nbconvert_exporter": "python",
   "pygments_lexer": "ipython3",
   "version": "3.6.7"
  }
 },
 "nbformat": 4,
 "nbformat_minor": 2
}
