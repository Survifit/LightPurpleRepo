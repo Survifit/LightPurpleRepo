{
 "cells": [
  {
   "cell_type": "code",
   "execution_count": 1,
   "metadata": {},
   "outputs": [
    {
     "name": "stdout",
     "output_type": "stream",
     "text": [
      "http://www.omdbapi.com/?apikey=8398015b&i=tt\n"
     ]
    }
   ],
   "source": [
    "# Run both days\n",
    "import pandas as pd\n",
    "import requests\n",
    "import numpy as np\n",
    "from config import omdb_key\n",
    "\n",
    "base_url = f'http://www.omdbapi.com/?apikey={omdb_key}&i=tt'\n",
    "print(base_url)"
   ]
  },
  {
   "cell_type": "code",
   "execution_count": null,
   "metadata": {},
   "outputs": [],
   "source": [
    "# Run on Tuesday\n",
    "tues_data = pd.read_csv('Data/stephanie_tues.csv', header=None)\n",
    "\n",
    "omdb_ids = tues_data.iloc[:,1]\n",
    "\n",
    "\n",
    "movie_data = []\n",
    "\n",
    "for omdb_id in omdb_ids:\n",
    "    # convert ID field to string\n",
    "    omdb_id = str(omdb_id)\n",
    "    \n",
    "    # replace leading zeros for IMDB id numbers lost in .csv save\n",
    "    while len(omdb_id) < 7:\n",
    "        omdb_id = '0' + omdb_id\n",
    "    \n",
    "    # get response from OMDB and store in movie_data list\n",
    "    url = base_url + omdb_id\n",
    "    response = requests.get(url).json()\n",
    "    movie_data.append(response)\n",
    "\n",
    "# Create datafram from movie responses\n",
    "movies = pd.DataFrame(movie_data)\n",
    "\n",
    "# Save to csv file\n",
    "movies.to_csv('Data/stephanie_tues_moviedata.csv')"
   ]
  },
  {
   "cell_type": "code",
   "execution_count": 2,
   "metadata": {},
   "outputs": [],
   "source": [
    "# Run on Wednesday\n",
    "tues_data = pd.read_csv('Data/stephanie_wed.csv', header=None)\n",
    "\n",
    "omdb_ids = tues_data.iloc[:,1]\n",
    "\n",
    "\n",
    "movie_data = []\n",
    "\n",
    "for omdb_id in omdb_ids:\n",
    "    # convert ID field to string\n",
    "    omdb_id = str(omdb_id)\n",
    "    \n",
    "    # replace leading zeros for IMDB id numbers lost in .csv save\n",
    "    while len(omdb_id) < 7:\n",
    "        omdb_id = '0' + omdb_id\n",
    "    \n",
    "    # get response from OMDB and store in movie_data list\n",
    "    url = base_url + omdb_id\n",
    "    response = requests.get(url).json()\n",
    "    movie_data.append(response)\n",
    "\n",
    "# Create datafram from movie responses\n",
    "movies = pd.DataFrame(movie_data)\n",
    "\n",
    "# Save to csv file\n",
    "movies.to_csv('Data/stephanie_wed_moviedata.csv')"
   ]
  },
  {
   "cell_type": "code",
   "execution_count": null,
   "metadata": {},
   "outputs": [],
   "source": []
  }
 ],
 "metadata": {
  "kernelspec": {
   "display_name": "Python 3",
   "language": "python",
   "name": "python3"
  },
  "language_info": {
   "codemirror_mode": {
    "name": "ipython",
    "version": 3
   },
   "file_extension": ".py",
   "mimetype": "text/x-python",
   "name": "python",
   "nbconvert_exporter": "python",
   "pygments_lexer": "ipython3",
   "version": "3.6.7"
  }
 },
 "nbformat": 4,
 "nbformat_minor": 2
}
